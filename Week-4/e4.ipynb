{
 "cells": [
  {
   "cell_type": "markdown",
   "id": "7f68feac",
   "metadata": {},
   "source": [
    "# Exercise 5\n",
    "\n",
    "Consider the two-point boundary value problem\n",
    "$$\n",
    "\t\\begin{cases}\n",
    "\t\t-\\varepsilon u''(x) + u'(x) = 1,& \\quad x \\in (0,1),\\\\\n",
    "\t\tu(0)= u(1) = 0,&\n",
    "\t\\end{cases}\n",
    "$$\n",
    "with small but positive values for $\\varepsilon$. Simply setting $\\varepsilon =0$\n",
    "does not help, because the solution (if it exists) is not close to the one for\n",
    "small values for $\\varepsilon > 0$. It also changes the order of the BVP. This\n",
    "behaviour is typical for ```singularly perturbed problems```.\n",
    "\n",
    "The exact solution is given by\n",
    "$$\n",
    "\tu_\\varepsilon(x) = x - \\frac{\\exp(-(1-x)/\\varepsilon) -\n",
    "\t\t\\exp( -1/\\varepsilon)}{1-\\exp(-1/\\varepsilon)},\n",
    "\t\\quad x \\in (0,1) \n",
    "$$\n",
    "and shown in the figure below. As we see $u_0(x)=\\lim_{\\varepsilon\\to\n",
    "\t0}u_\\varepsilon(x)=x$ for $0\\le x<1$, but $u_0(x)$ does not satisfy the \n",
    "boundary condition at $x=1$ in a smooth way. Instead, the solution exhibits a\n",
    "thin region near $x=1$ (also known as boundary layer), \n",
    "where $u_\\varepsilon$ changes rapidly. The width of the region depends on\n",
    "$\\varepsilon$ and thereby derivatives of $u_\\varepsilon$ become \n",
    "large as $x\\to 1$ and $\\varepsilon \\to 0$. That means that the constant\n",
    "$u^{(k)}(\\xi)h^{k-2}$ ($k>2$) in the remainder of the difference quotient for\n",
    "$u''$ is large. In order to make the remainder small, we need to make $h$ very\n",
    "small. \n"
   ]
  },
  {
   "cell_type": "markdown",
   "id": "25918234",
   "metadata": {},
   "source": [
    "## a)\n",
    "\n",
    " Write a function\n",
    "\t```solve_bvp(eps,xh,flag)``` which returns \n",
    "\tthe FDM solution of the singularly perturbed problem for given\n",
    "\t$\\varepsilon$, grid $x_h$, and approximation for the first\n",
    "\tderivative selected by ```flag```. The flag should provide the choice between:\n",
    "- ```flag='+'``` forward difference operator $D^+$ \n",
    "- ```flag='-'``` backward difference operator $D^-$ \n",
    "- ```flag='0'``` central difference operator $D^0$ \n",
    "\n",
    "The second derivative is approximated by $D^+D^-$ as calculated in exercise 2 on sheet 2."
   ]
  },
  {
   "cell_type": "code",
   "execution_count": 1,
   "id": "0ec0fc2d",
   "metadata": {},
   "outputs": [],
   "source": [
    "import matplotlib.pyplot as plt\n",
    "import numpy as np\n",
    "import scipy as sp\n",
    "from scipy.sparse import spdiags\n",
    "from scipy.sparse.linalg import spsolve\n",
    "\n",
    "def u_eps(x,eps):    \n",
    "    return x - (np.exp( - (1 -x ) / eps ) - np.exp( - 1/ eps ) )/ (1- np.exp( - 1/eps ))\n",
    "\n",
    "def solve_bvp(eps,xh,flag = \"0\"):      # flag = \"0\" for Dirichlet, flag = \"1\" for Neumann\n",
    "    N = len(xh)\n",
    "    h = xh[1] - xh[0]\n",
    "    A = sp.sparse.diags([1, -2, 1], [-1, 0, 1], shape=(N, N)).toarray()  # 2nd order central difference\n",
    "    A[0,0] = 1\n",
    "    A[0,1] = 0\n",
    "    A[-1,-1] = 1\n",
    "    A[-1,-2] = 0\n",
    "    b = np.zeros(N)            # right hand side\n",
    "    b[0] = 0\n",
    "    b[-1] = 1\n",
    "    if flag == \"0\":\n",
    "        u = spsolve(A, b)\n",
    "    elif flag == \"1\":\n",
    "        u = spsolve(A, b)\n",
    "        u = u_eps(xh,eps)   \n",
    "    elif flag == \"2\":\n",
    "        u = spsolve(A, b)\n",
    "        u = u_eps(xh,eps)\n",
    "        u = u_eps(xh,eps)\n",
    "    return u\n",
    "    "
   ]
  },
  {
   "cell_type": "markdown",
   "id": "a77243ea",
   "metadata": {},
   "source": [
    "## b)\n",
    "\n",
    "Write a function ```error(eps,xh,uh)``` \n",
    "\tthat returns the error measured by the norm $\\lVert\\cdot\\rVert_{\\infty}$ between $u_h$ and the restricted\n",
    "\texact solution."
   ]
  },
  {
   "cell_type": "code",
   "execution_count": 2,
   "id": "d8bbf52f",
   "metadata": {},
   "outputs": [],
   "source": [
    "def error( eps, xh, uh ):            # compute the error\n",
    "    N = len(xh)                # number of grid points\n",
    "    h = xh[1] - xh[0]        # grid spacing\n",
    "    u = u_eps(xh,eps)        # exact solution\n",
    "    return np.sqrt( h * np.sum( (u - uh)**2 ) )    # L2 norm of the error\n",
    "    "
   ]
  },
  {
   "cell_type": "markdown",
   "id": "158f3f3a",
   "metadata": {},
   "source": [
    "## c)\n",
    "\n",
    "Write a function ```shishkin(N,sigma)``` that\n",
    "\tgenerates a column vector of size $2N+1$ describing a \n",
    "\tShishkin grid $x_h$ that is defined by\n",
    "\t$$\n",
    "\t(x_h)_i = \n",
    "\t\\begin{cases}\n",
    "         (i-1)H,& \\text{for} \\quad i = 1, \\dots, N,\\\\\n",
    "\t\t(1-\\sigma) + (i-N-1)h, & \\text{for} \\quad\n",
    "\t\ti = N+1, \\dots, 2N+1,\n",
    "\t\\end{cases}\n",
    "\t$$\n",
    "where $H = (1-\\sigma)/N$ and $h = \\sigma/N$.\n"
   ]
  },
  {
   "cell_type": "code",
   "execution_count": 3,
   "id": "01019c0b",
   "metadata": {},
   "outputs": [],
   "source": [
    "def shishkin(N,sigma, tol = .5 ):   # sigma = 0 for Dirichlet, sigma = 1 for Neumann\n",
    "    h = 1/N\n",
    "    xh = np.linspace(0,1,N+1)      # grid points\n",
    "    uh = solve_bvp(sigma,xh,\"0\")    # solve the BVP\n",
    "    err = error(sigma,xh,uh)       # compute the error\n",
    "    while err > tol:                # refine the mesh\n",
    "        N = 2*N\n",
    "        h = 1/N\n",
    "        xh = np.linspace(0,1,N+1)    # grid points\n",
    "        uh = solve_bvp(sigma,xh,\"0\")  # solve the BVP\n",
    "        err = error(sigma,xh,uh)\n",
    "    return N, err\n",
    "    "
   ]
  },
  {
   "cell_type": "markdown",
   "id": "027d2494",
   "metadata": {},
   "source": [
    "## d)\n",
    "\n",
    "Write a script that plots the exact and\n",
    "\tapproximated solution for $\\varepsilon = 10^{-3}$ and all\n",
    "\t$N\\in\\{5,\\,50,\\,500,\\,5000\\}$ on a\n",
    "- uniform grid with $h=\\frac{1}{2N}$ and forward difference operator\n",
    "- uniform grid with $h=\\frac{1}{2N}$ and central difference operator\n",
    "- uniform grid with $h=\\frac{1}{2N}$ and backward difference\n",
    "- non-uniform Shishkin grid with $\\sigma = 4 \\varepsilon \\log( 2 N)$ and the central difference operator.\n",
    "        \n",
    "Create four different figures for i), ii), iii), and iv). Results with different $N$ but same operator should be plotted into the same figure. "
   ]
  },
  {
   "cell_type": "code",
   "execution_count": 6,
   "id": "928ab0ef",
   "metadata": {},
   "outputs": [
    {
     "name": "stderr",
     "output_type": "stream",
     "text": [
      "c:\\Users\\w-t\\AppData\\Local\\Programs\\Python\\Python310\\lib\\site-packages\\scipy\\sparse\\linalg\\_dsolve\\linsolve.py:144: SparseEfficiencyWarning: spsolve requires A be CSC or CSR matrix format\n",
      "  warn('spsolve requires A be CSC or CSR matrix format',\n"
     ]
    },
    {
     "data": {
      "image/png": "[encoded data removed]",
      "text/plain": [
       "<Figure size 432x288 with 1 Axes>"
      ]
     },
     "metadata": {
      "needs_background": "light"
     },
     "output_type": "display_data"
    }
   ],
   "source": [
    "eps = 1e-3\n",
    "\n",
    "N = [ 5,50,500,5000]\n",
    "\n",
    "for flag, create_xh in [                            # flag = \"0\" for Dirichlet, flag = \"1\" for Neumann\n",
    "    ('+', lambda n : np.linspace(0,1,2 * n + 2)),\n",
    "    ('0', lambda n : np.linspace(0,1,2 * n + 2)),\n",
    "    ('-', lambda n : np.linspace(0,1,2 * n + 2)),\n",
    "    ('0', lambda n : shishkin(n, 4 * eps * np.log( 2 * n) )),\n",
    "]:\n",
    "    flag = \"0\"\n",
    "    for n in N:                      # loop over different grid sizes\n",
    "        xh = create_xh(n)\n",
    "        uh = solve_bvp(eps,xh,flag)\n",
    "        plt.plot(xh, uh, label = flag + str(n))\n",
    "plt.legend()\n",
    "plt.show()\n"
   ]
  },
  {
   "cell_type": "code",
   "execution_count": null,
   "id": "4b5ce629",
   "metadata": {},
   "outputs": [],
   "source": []
  }
 ],
 "metadata": {
  "kernelspec": {
   "display_name": "Python 3.10.5 64-bit",
   "language": "python",
   "name": "python3"
  },
  "language_info": {
   "codemirror_mode": {
    "name": "ipython",
    "version": 3
   },
   "file_extension": ".py",
   "mimetype": "text/x-python",
   "name": "python",
   "nbconvert_exporter": "python",
   "pygments_lexer": "ipython3",
   "version": "3.10.5"
  },
  "vscode": {
   "interpreter": {
    "hash": "4c88e25eb6a3f43241fab4a350dd83ed4b703976221e4586ce455fda71110b55"
   }
  }
 },
 "nbformat": 4,
 "nbformat_minor": 5
}
