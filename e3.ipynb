{
 "cells": [
  {
   "cell_type": "markdown",
   "metadata": {},
   "source": [
    "\n",
    "# Finite differences\n",
    "\n",
    "The Poisson equation in 1D is defined as\n",
    "$$\n",
    "-\\Delta u = f \\quad \\text{on $\\Omega$}\n",
    "$$\n",
    "with $\\Omega = ]0,1[$, $u:\\mathbb{R}\\rightarrow \\mathbb{R}$. The task is to solve this equation numerically by using the Finite Difference Method (FDM) for a constant right-hand side $f=1$ and to compare your results with the exact solutions. Use homogeneous Neumann boundary conditions for the right boundary and homogeneous Dirichlet boundary conditions on the left side.\n"
   ]
  },
  {
   "cell_type": "markdown",
   "metadata": {},
   "source": [
    "## Exercise a)\n",
    "\n",
    "Discretize the domain with equidistant meshes with different step sizes $h=\\frac{1}{n-1}, n = 2^p-1, p=1,\\ldots,10$, yielding points $x_h$, and construct the matrix $L_h$ that represents the second order difference quotient for the ```reduced``` linear system as a sparse matrix. Define the solution $u_h$ and the right-hand sides $f_h$ as vectors.\n"
   ]
  },
  {
   "cell_type": "code",
   "execution_count": 1,
   "metadata": {},
   "outputs": [],
   "source": [
    "import numpy as np\n",
    "import scipy as sp\n",
    "from scipy.sparse import spdiags\n",
    "from scipy.sparse.linalg import spsolve\n",
    "\n",
    "import matplotlib.pyplot as plt\n",
    "%matplotlib inline\n",
    "\n",
    "def f(x):\n",
    "    return np.ones_like(x)\n",
    "\n",
    "def u(x):\n",
    "    # Analytic solution\n",
    "    return np.zeros_like(x)\n",
    "\n",
    "def create_laplacian(n):\n",
    "    # Create Laplacian\n",
    "    data = np.ones(n-1)\n",
    "    diags = np.array([-1, 1])\n",
    "    Lh = spdiags(data, diags, n-1, n-1)\n",
    "    return Lh\n",
    "\n",
    "\n",
    "def create_system(n, f ):\n",
    "    # Create system\n",
    "    h = 1.0 / n\n",
    "    xh = np.linspace(0, 1, n+1)\n",
    "    fh = f(xh)\n",
    "    fh[0] = 0\n",
    "    fh[-1] = 0\n",
    "    fh *= h**2\n",
    "    Lh = create_laplacian(n)\n",
    "    return xh, Lh, fh , h\n",
    "\n",
    "\n",
    "\n"
   ]
  },
  {
   "cell_type": "markdown",
   "metadata": {},
   "source": [
    "## Exercise b) + c)\n",
    "\n",
    "Solve the system numerically and plot the results $u_h$ together with the exact solutions $u$ for all step sizes $p$ into the same figure with title and labels. \n",
    "For a sequence of decreasing $h$, the discretization error between the numerical solution $u_h$ and the exact solution $u$ can be expressed by $e(h)=\\max_i |u_h(ih)-u(ih)|$. Compute this error and plot $e$ versus the grid size $h$ in a log-log plot. Can you explain the differences between the solution for constant and non-constant $f$?"
   ]
  },
  {
   "cell_type": "code",
   "execution_count": 3,
   "metadata": {},
   "outputs": [
    {
     "ename": "ValueError",
     "evalue": "number of diagonals (1) does not match the number of offsets (2)",
     "output_type": "error",
     "traceback": [
      "\u001b[1;31m---------------------------------------------------------------------------\u001b[0m",
      "\u001b[1;31mValueError\u001b[0m                                Traceback (most recent call last)",
      "\u001b[1;32mc:\\Users\\w-t\\OneDrive - Technische Universität Berlin\\Germany Summer2021 (Done)\\TU Berlin (Semester Docs+Course Work)\\Winters 22-23\\Num_Math_2\\Ex-3\\e3.ipynb Cell 5\u001b[0m in \u001b[0;36m<cell line: 1>\u001b[1;34m()\u001b[0m\n\u001b[0;32m      <a href='vscode-notebook-cell:/c%3A/Users/w-t/OneDrive%20-%20Technische%20Universit%C3%A4t%20Berlin/Germany%20Summer2021%20%28Done%29/TU%20Berlin%20%28Semester%20Docs%2BCourse%20Work%29/Winters%2022-23/Num_Math_2/Ex-3/e3.ipynb#X11sZmlsZQ%3D%3D?line=0'>1</a>\u001b[0m \u001b[39mfor\u001b[39;00m p \u001b[39min\u001b[39;00m \u001b[39mrange\u001b[39m(\u001b[39m2\u001b[39m,\u001b[39m10\u001b[39m):\n\u001b[0;32m      <a href='vscode-notebook-cell:/c%3A/Users/w-t/OneDrive%20-%20Technische%20Universit%C3%A4t%20Berlin/Germany%20Summer2021%20%28Done%29/TU%20Berlin%20%28Semester%20Docs%2BCourse%20Work%29/Winters%2022-23/Num_Math_2/Ex-3/e3.ipynb#X11sZmlsZQ%3D%3D?line=1'>2</a>\u001b[0m     n \u001b[39m=\u001b[39m \u001b[39m2\u001b[39m \u001b[39m*\u001b[39m\u001b[39m*\u001b[39m ( p \u001b[39m+\u001b[39m \u001b[39m1\u001b[39m) \u001b[39m-\u001b[39m \u001b[39m1\u001b[39m\n\u001b[1;32m----> <a href='vscode-notebook-cell:/c%3A/Users/w-t/OneDrive%20-%20Technische%20Universit%C3%A4t%20Berlin/Germany%20Summer2021%20%28Done%29/TU%20Berlin%20%28Semester%20Docs%2BCourse%20Work%29/Winters%2022-23/Num_Math_2/Ex-3/e3.ipynb#X11sZmlsZQ%3D%3D?line=2'>3</a>\u001b[0m     xh, Lh, fh, h \u001b[39m=\u001b[39m create_system(n, f)\n\u001b[0;32m      <a href='vscode-notebook-cell:/c%3A/Users/w-t/OneDrive%20-%20Technische%20Universit%C3%A4t%20Berlin/Germany%20Summer2021%20%28Done%29/TU%20Berlin%20%28Semester%20Docs%2BCourse%20Work%29/Winters%2022-23/Num_Math_2/Ex-3/e3.ipynb#X11sZmlsZQ%3D%3D?line=3'>4</a>\u001b[0m     uh \u001b[39m=\u001b[39m spsolve(Lh, fh)\n\u001b[0;32m      <a href='vscode-notebook-cell:/c%3A/Users/w-t/OneDrive%20-%20Technische%20Universit%C3%A4t%20Berlin/Germany%20Summer2021%20%28Done%29/TU%20Berlin%20%28Semester%20Docs%2BCourse%20Work%29/Winters%2022-23/Num_Math_2/Ex-3/e3.ipynb#X11sZmlsZQ%3D%3D?line=4'>5</a>\u001b[0m     uh \u001b[39m=\u001b[39m np\u001b[39m.\u001b[39minsert(uh, \u001b[39m0\u001b[39m, \u001b[39m0\u001b[39m)\n",
      "\u001b[1;32mc:\\Users\\w-t\\OneDrive - Technische Universität Berlin\\Germany Summer2021 (Done)\\TU Berlin (Semester Docs+Course Work)\\Winters 22-23\\Num_Math_2\\Ex-3\\e3.ipynb Cell 5\u001b[0m in \u001b[0;36mcreate_system\u001b[1;34m(n, f)\u001b[0m\n\u001b[0;32m     <a href='vscode-notebook-cell:/c%3A/Users/w-t/OneDrive%20-%20Technische%20Universit%C3%A4t%20Berlin/Germany%20Summer2021%20%28Done%29/TU%20Berlin%20%28Semester%20Docs%2BCourse%20Work%29/Winters%2022-23/Num_Math_2/Ex-3/e3.ipynb#X11sZmlsZQ%3D%3D?line=29'>30</a>\u001b[0m fh[\u001b[39m-\u001b[39m\u001b[39m1\u001b[39m] \u001b[39m=\u001b[39m \u001b[39m0\u001b[39m\n\u001b[0;32m     <a href='vscode-notebook-cell:/c%3A/Users/w-t/OneDrive%20-%20Technische%20Universit%C3%A4t%20Berlin/Germany%20Summer2021%20%28Done%29/TU%20Berlin%20%28Semester%20Docs%2BCourse%20Work%29/Winters%2022-23/Num_Math_2/Ex-3/e3.ipynb#X11sZmlsZQ%3D%3D?line=30'>31</a>\u001b[0m fh \u001b[39m*\u001b[39m\u001b[39m=\u001b[39m h\u001b[39m*\u001b[39m\u001b[39m*\u001b[39m\u001b[39m2\u001b[39m\n\u001b[1;32m---> <a href='vscode-notebook-cell:/c%3A/Users/w-t/OneDrive%20-%20Technische%20Universit%C3%A4t%20Berlin/Germany%20Summer2021%20%28Done%29/TU%20Berlin%20%28Semester%20Docs%2BCourse%20Work%29/Winters%2022-23/Num_Math_2/Ex-3/e3.ipynb#X11sZmlsZQ%3D%3D?line=31'>32</a>\u001b[0m Lh \u001b[39m=\u001b[39m create_laplacian(n)\n\u001b[0;32m     <a href='vscode-notebook-cell:/c%3A/Users/w-t/OneDrive%20-%20Technische%20Universit%C3%A4t%20Berlin/Germany%20Summer2021%20%28Done%29/TU%20Berlin%20%28Semester%20Docs%2BCourse%20Work%29/Winters%2022-23/Num_Math_2/Ex-3/e3.ipynb#X11sZmlsZQ%3D%3D?line=32'>33</a>\u001b[0m \u001b[39mreturn\u001b[39;00m xh, Lh, fh , h\n",
      "\u001b[1;32mc:\\Users\\w-t\\OneDrive - Technische Universität Berlin\\Germany Summer2021 (Done)\\TU Berlin (Semester Docs+Course Work)\\Winters 22-23\\Num_Math_2\\Ex-3\\e3.ipynb Cell 5\u001b[0m in \u001b[0;36mcreate_laplacian\u001b[1;34m(n)\u001b[0m\n\u001b[0;32m     <a href='vscode-notebook-cell:/c%3A/Users/w-t/OneDrive%20-%20Technische%20Universit%C3%A4t%20Berlin/Germany%20Summer2021%20%28Done%29/TU%20Berlin%20%28Semester%20Docs%2BCourse%20Work%29/Winters%2022-23/Num_Math_2/Ex-3/e3.ipynb#X11sZmlsZQ%3D%3D?line=17'>18</a>\u001b[0m data \u001b[39m=\u001b[39m np\u001b[39m.\u001b[39mones(n\u001b[39m-\u001b[39m\u001b[39m1\u001b[39m)\n\u001b[0;32m     <a href='vscode-notebook-cell:/c%3A/Users/w-t/OneDrive%20-%20Technische%20Universit%C3%A4t%20Berlin/Germany%20Summer2021%20%28Done%29/TU%20Berlin%20%28Semester%20Docs%2BCourse%20Work%29/Winters%2022-23/Num_Math_2/Ex-3/e3.ipynb#X11sZmlsZQ%3D%3D?line=18'>19</a>\u001b[0m diags \u001b[39m=\u001b[39m np\u001b[39m.\u001b[39marray([\u001b[39m-\u001b[39m\u001b[39m1\u001b[39m, \u001b[39m1\u001b[39m])\n\u001b[1;32m---> <a href='vscode-notebook-cell:/c%3A/Users/w-t/OneDrive%20-%20Technische%20Universit%C3%A4t%20Berlin/Germany%20Summer2021%20%28Done%29/TU%20Berlin%20%28Semester%20Docs%2BCourse%20Work%29/Winters%2022-23/Num_Math_2/Ex-3/e3.ipynb#X11sZmlsZQ%3D%3D?line=19'>20</a>\u001b[0m Lh \u001b[39m=\u001b[39m spdiags(data, diags, n\u001b[39m-\u001b[39;49m\u001b[39m1\u001b[39;49m, n\u001b[39m-\u001b[39;49m\u001b[39m1\u001b[39;49m)\n\u001b[0;32m     <a href='vscode-notebook-cell:/c%3A/Users/w-t/OneDrive%20-%20Technische%20Universit%C3%A4t%20Berlin/Germany%20Summer2021%20%28Done%29/TU%20Berlin%20%28Semester%20Docs%2BCourse%20Work%29/Winters%2022-23/Num_Math_2/Ex-3/e3.ipynb#X11sZmlsZQ%3D%3D?line=20'>21</a>\u001b[0m \u001b[39mreturn\u001b[39;00m Lh\n",
      "File \u001b[1;32mc:\\Users\\w-t\\AppData\\Local\\Programs\\Python\\Python310\\lib\\site-packages\\scipy\\sparse\\_construct.py:63\u001b[0m, in \u001b[0;36mspdiags\u001b[1;34m(data, diags, m, n, format)\u001b[0m\n\u001b[0;32m     26\u001b[0m \u001b[39mdef\u001b[39;00m \u001b[39mspdiags\u001b[39m(data, diags, m, n, \u001b[39mformat\u001b[39m\u001b[39m=\u001b[39m\u001b[39mNone\u001b[39;00m):\n\u001b[0;32m     27\u001b[0m     \u001b[39m\"\"\"\u001b[39;00m\n\u001b[0;32m     28\u001b[0m \u001b[39m    Return a sparse matrix from diagonals.\u001b[39;00m\n\u001b[0;32m     29\u001b[0m \n\u001b[1;32m   (...)\u001b[0m\n\u001b[0;32m     61\u001b[0m \n\u001b[0;32m     62\u001b[0m \u001b[39m    \"\"\"\u001b[39;00m\n\u001b[1;32m---> 63\u001b[0m     \u001b[39mreturn\u001b[39;00m dia_matrix((data, diags), shape\u001b[39m=\u001b[39;49m(m, n))\u001b[39m.\u001b[39masformat(\u001b[39mformat\u001b[39m)\n",
      "File \u001b[1;32mc:\\Users\\w-t\\AppData\\Local\\Programs\\Python\\Python310\\lib\\site-packages\\scipy\\sparse\\_dia.py:151\u001b[0m, in \u001b[0;36mdia_matrix.__init__\u001b[1;34m(self, arg1, shape, dtype, copy)\u001b[0m\n\u001b[0;32m    148\u001b[0m     \u001b[39mraise\u001b[39;00m \u001b[39mValueError\u001b[39;00m(\u001b[39m'\u001b[39m\u001b[39mdata array must have rank 2\u001b[39m\u001b[39m'\u001b[39m)\n\u001b[0;32m    150\u001b[0m \u001b[39mif\u001b[39;00m \u001b[39mself\u001b[39m\u001b[39m.\u001b[39mdata\u001b[39m.\u001b[39mshape[\u001b[39m0\u001b[39m] \u001b[39m!=\u001b[39m \u001b[39mlen\u001b[39m(\u001b[39mself\u001b[39m\u001b[39m.\u001b[39moffsets):\n\u001b[1;32m--> 151\u001b[0m     \u001b[39mraise\u001b[39;00m \u001b[39mValueError\u001b[39;00m(\u001b[39m'\u001b[39m\u001b[39mnumber of diagonals (\u001b[39m\u001b[39m%d\u001b[39;00m\u001b[39m) \u001b[39m\u001b[39m'\u001b[39m\n\u001b[0;32m    152\u001b[0m             \u001b[39m'\u001b[39m\u001b[39mdoes not match the number of offsets (\u001b[39m\u001b[39m%d\u001b[39;00m\u001b[39m)\u001b[39m\u001b[39m'\u001b[39m\n\u001b[0;32m    153\u001b[0m             \u001b[39m%\u001b[39m (\u001b[39mself\u001b[39m\u001b[39m.\u001b[39mdata\u001b[39m.\u001b[39mshape[\u001b[39m0\u001b[39m], \u001b[39mlen\u001b[39m(\u001b[39mself\u001b[39m\u001b[39m.\u001b[39moffsets)))\n\u001b[0;32m    155\u001b[0m \u001b[39mif\u001b[39;00m \u001b[39mlen\u001b[39m(np\u001b[39m.\u001b[39munique(\u001b[39mself\u001b[39m\u001b[39m.\u001b[39moffsets)) \u001b[39m!=\u001b[39m \u001b[39mlen\u001b[39m(\u001b[39mself\u001b[39m\u001b[39m.\u001b[39moffsets):\n\u001b[0;32m    156\u001b[0m     \u001b[39mraise\u001b[39;00m \u001b[39mValueError\u001b[39;00m(\u001b[39m'\u001b[39m\u001b[39moffset array contains duplicate values\u001b[39m\u001b[39m'\u001b[39m)\n",
      "\u001b[1;31mValueError\u001b[0m: number of diagonals (1) does not match the number of offsets (2)"
     ]
    }
   ],
   "source": [
    "\n",
    "\n",
    "for p in range(2,10):                # Loop over different mesh sizes\n",
    "    n = 2 ** ( p + 1) - 1         # Number of grid points\n",
    "    xh, Lh, fh, h = create_system(n, f)  # Create system\n",
    "    uh = spsolve(Lh, fh)            # Solve system\n",
    "    uh = np.insert(uh, 0, 0)          # Insert boundary conditions\n",
    "    uh = np.append(uh, 0)            # Insert boundary conditions\n",
    "    plt.plot(xh, uh, label='n=%d' % n)     # Plot solution\n",
    "plt.plot(xh, u(xh), label='analytic')      # Plot analytic solution\n",
    "plt.legend(loc='best')                     # Add legend\n",
    "plt.show()                                # Show plot\n"
   ]
  },
  {
   "cell_type": "code",
   "execution_count": null,
   "metadata": {},
   "outputs": [],
   "source": []
  }
 ],
 "metadata": {
  "kernelspec": {
   "display_name": "Python 3.10.5 64-bit",
   "language": "python",
   "name": "python3"
  },
  "language_info": {
   "codemirror_mode": {
    "name": "ipython",
    "version": 3
   },
   "file_extension": ".py",
   "mimetype": "text/x-python",
   "name": "python",
   "nbconvert_exporter": "python",
   "pygments_lexer": "ipython3",
   "version": "3.10.5"
  },
  "vscode": {
   "interpreter": {
    "hash": "4c88e25eb6a3f43241fab4a350dd83ed4b703976221e4586ce455fda71110b55"
   }
  }
 },
 "nbformat": 4,
 "nbformat_minor": 2
}
